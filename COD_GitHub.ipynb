{
  "metadata": {
    "kernelspec": {
      "language": "python",
      "display_name": "Python 3",
      "name": "python3"
    },
    "language_info": {
      "pygments_lexer": "ipython3",
      "nbconvert_exporter": "python",
      "version": "3.6.4",
      "file_extension": ".py",
      "codemirror_mode": {
        "name": "ipython",
        "version": 3
      },
      "name": "python",
      "mimetype": "text/x-python"
    },
    "colab": {
      "provenance": [],
      "include_colab_link": true
    }
  },
  "nbformat_minor": 0,
  "nbformat": 4,
  "cells": [
    {
      "cell_type": "markdown",
      "metadata": {
        "id": "view-in-github",
        "colab_type": "text"
      },
      "source": [
        "<a href=\"https://colab.research.google.com/github/ylfoo/HelloWorld/blob/main/COD_GitHub.ipynb\" target=\"_parent\"><img src=\"https://colab.research.google.com/assets/colab-badge.svg\" alt=\"Open In Colab\"/></a>"
      ]
    },
    {
      "cell_type": "markdown",
      "source": [
        "**Full Scale Waste Water Treatment Plant Data**"
      ],
      "metadata": {
        "id": "vDLxrNzxDrWA"
      }
    },
    {
      "cell_type": "markdown",
      "source": [
        "Energy consumption, climate, and wastewater characteristics of Melbourne eastern wastewater treatment plant for preiod of six years (2014-2019). Source: https://www.kaggle.com/datasets/d4rklucif3r/full-scale-waste-water-treatment-plant-data"
      ],
      "metadata": {
        "id": "wiXgR7dnDyon"
      }
    },
    {
      "cell_type": "markdown",
      "source": [
        "Import necessary libraries"
      ],
      "metadata": {
        "id": "GHlKSA1SBk1O"
      }
    },
    {
      "cell_type": "code",
      "source": [
        "import pandas as pd\n",
        "import numpy as np\n",
        "import matplotlib.pyplot as plt\n",
        "import seaborn as sns\n",
        "\n",
        "from sklearn.model_selection import KFold, cross_val_score, train_test_split as split\n",
        "from sklearn.metrics import mean_squared_error, r2_score\n",
        "from sklearn.preprocessing import MinMaxScaler, StandardScaler, RobustScaler\n",
        "from sklearn.linear_model import LinearRegression as LNR, Ridge, Lasso, ElasticNet as ENR\n",
        "from sklearn.tree import DecisionTreeRegressor as DTR\n",
        "from sklearn.ensemble import AdaBoostRegressor as ADA, BaggingRegressor as BAG, GradientBoostingRegressor as GBR, RandomForestRegressor as RFR\n",
        "from sklearn.neural_network import MLPRegressor as MLPR\n",
        "from sklearn.svm import SVR\n",
        "from sklearn.neighbors import KNeighborsRegressor as KNR\n",
        "\n",
        "from tensorflow import keras\n",
        "from keras import layers\n",
        "from keras.layers import LSTM, Dense\n",
        "from keras.models import Sequential"
      ],
      "metadata": {
        "execution": {
          "iopub.status.busy": "2023-10-15T10:52:39.274148Z",
          "iopub.execute_input": "2023-10-15T10:52:39.274814Z",
          "iopub.status.idle": "2023-10-15T10:52:39.282864Z",
          "shell.execute_reply.started": "2023-10-15T10:52:39.274764Z",
          "shell.execute_reply": "2023-10-15T10:52:39.281936Z"
        },
        "trusted": true,
        "id": "hSTjPscGgf4j"
      },
      "execution_count": null,
      "outputs": []
    },
    {
      "cell_type": "markdown",
      "source": [
        "Load the dataset"
      ],
      "metadata": {
        "id": "3xZdBykJBnVv"
      }
    },
    {
      "cell_type": "code",
      "source": [
        "data = pd.read_csv('https://raw.githubusercontent.com/ylfoo/datasets/main/Data-Melbourne_F_fixed.csv', index_col = 0)"
      ],
      "metadata": {
        "execution": {
          "iopub.status.busy": "2023-10-15T10:52:39.3408Z",
          "iopub.execute_input": "2023-10-15T10:52:39.341108Z",
          "iopub.status.idle": "2023-10-15T10:52:39.356376Z",
          "shell.execute_reply.started": "2023-10-15T10:52:39.341082Z",
          "shell.execute_reply": "2023-10-15T10:52:39.355297Z"
        },
        "trusted": true,
        "id": "vOjpiPtqgf4k"
      },
      "execution_count": null,
      "outputs": []
    },
    {
      "cell_type": "code",
      "source": [
        "data.shape"
      ],
      "metadata": {
        "id": "5VQ1OxXVByqs"
      },
      "execution_count": null,
      "outputs": []
    },
    {
      "cell_type": "code",
      "source": [
        "data.head()"
      ],
      "metadata": {
        "execution": {
          "iopub.status.busy": "2023-10-15T10:52:39.389245Z",
          "iopub.execute_input": "2023-10-15T10:52:39.390075Z",
          "iopub.status.idle": "2023-10-15T10:52:39.416075Z",
          "shell.execute_reply.started": "2023-10-15T10:52:39.390044Z",
          "shell.execute_reply": "2023-10-15T10:52:39.41495Z"
        },
        "trusted": true,
        "id": "AW87prUAgf4l"
      },
      "execution_count": null,
      "outputs": []
    },
    {
      "cell_type": "code",
      "source": [
        "data.columns"
      ],
      "metadata": {
        "execution": {
          "iopub.status.busy": "2023-10-15T10:52:39.425954Z",
          "iopub.execute_input": "2023-10-15T10:52:39.426884Z",
          "iopub.status.idle": "2023-10-15T10:52:39.433776Z",
          "shell.execute_reply.started": "2023-10-15T10:52:39.426849Z",
          "shell.execute_reply": "2023-10-15T10:52:39.432242Z"
        },
        "trusted": true,
        "id": "_mv3X3m1gf4l"
      },
      "execution_count": null,
      "outputs": []
    },
    {
      "cell_type": "code",
      "source": [
        "data.isna().sum()"
      ],
      "metadata": {
        "execution": {
          "iopub.status.busy": "2023-10-15T10:52:39.462719Z",
          "iopub.execute_input": "2023-10-15T10:52:39.463206Z",
          "iopub.status.idle": "2023-10-15T10:52:39.471761Z",
          "shell.execute_reply.started": "2023-10-15T10:52:39.463183Z",
          "shell.execute_reply": "2023-10-15T10:52:39.470711Z"
        },
        "trusted": true,
        "id": "CqTy7MhLgf4m"
      },
      "execution_count": null,
      "outputs": []
    },
    {
      "cell_type": "code",
      "source": [
        "data.describe()"
      ],
      "metadata": {
        "execution": {
          "iopub.status.busy": "2023-10-15T10:52:39.499153Z",
          "iopub.execute_input": "2023-10-15T10:52:39.49938Z",
          "iopub.status.idle": "2023-10-15T10:52:39.552615Z",
          "shell.execute_reply.started": "2023-10-15T10:52:39.49936Z",
          "shell.execute_reply": "2023-10-15T10:52:39.551702Z"
        },
        "trusted": true,
        "id": "uI77046Ogf4n"
      },
      "execution_count": null,
      "outputs": []
    },
    {
      "cell_type": "code",
      "source": [
        "data.info()"
      ],
      "metadata": {
        "execution": {
          "iopub.status.busy": "2023-10-15T10:52:39.554155Z",
          "iopub.execute_input": "2023-10-15T10:52:39.554909Z",
          "iopub.status.idle": "2023-10-15T10:52:39.56644Z",
          "shell.execute_reply.started": "2023-10-15T10:52:39.554878Z",
          "shell.execute_reply": "2023-10-15T10:52:39.565247Z"
        },
        "trusted": true,
        "id": "zOopXAefgf4n"
      },
      "execution_count": null,
      "outputs": []
    },
    {
      "cell_type": "code",
      "source": [
        "atmospheric_values = [\n",
        "    'Average Temperature',\n",
        "    'Maximum temperature',\n",
        "    'Minimum temperature',\n",
        "    'Atmospheric pressure',\n",
        "    'Average humidity',\n",
        "    'Total rainfall',\n",
        "    'Average visibility',\n",
        "    'Average wind speed',\n",
        "    'Maximum wind speed',\n",
        "]"
      ],
      "metadata": {
        "execution": {
          "iopub.status.busy": "2023-10-15T10:52:41.104961Z",
          "iopub.execute_input": "2023-10-15T10:52:41.105588Z",
          "iopub.status.idle": "2023-10-15T10:52:41.126673Z",
          "shell.execute_reply.started": "2023-10-15T10:52:41.105555Z",
          "shell.execute_reply": "2023-10-15T10:52:41.125658Z"
        },
        "trusted": true,
        "id": "mHHqm3dWgf4p"
      },
      "execution_count": null,
      "outputs": []
    },
    {
      "cell_type": "code",
      "source": [
        "data[atmospheric_values].head()"
      ],
      "metadata": {
        "id": "FevWZdmkEpoE"
      },
      "execution_count": null,
      "outputs": []
    },
    {
      "cell_type": "code",
      "source": [
        "data['Date'] = pd.to_datetime(data[['Year', 'Month', 'Day']])\n",
        "data.drop(['Year', 'Month', 'Day'], axis=1, inplace=True)"
      ],
      "metadata": {
        "execution": {
          "iopub.status.busy": "2023-10-15T10:52:49.893996Z",
          "iopub.execute_input": "2023-10-15T10:52:49.894569Z",
          "iopub.status.idle": "2023-10-15T10:52:49.925002Z",
          "shell.execute_reply.started": "2023-10-15T10:52:49.894533Z",
          "shell.execute_reply": "2023-10-15T10:52:49.924049Z"
        },
        "trusted": true,
        "id": "9Kg4L-_Xgf4q"
      },
      "execution_count": null,
      "outputs": []
    },
    {
      "cell_type": "code",
      "source": [
        "data.shape"
      ],
      "metadata": {
        "id": "EctH5wzAUi7y"
      },
      "execution_count": null,
      "outputs": []
    },
    {
      "cell_type": "code",
      "source": [
        "data.columns"
      ],
      "metadata": {
        "id": "L5sK4xJgUkpA"
      },
      "execution_count": null,
      "outputs": []
    },
    {
      "cell_type": "code",
      "source": [
        "data.info()"
      ],
      "metadata": {
        "id": "ltfXfAMYUh8j"
      },
      "execution_count": null,
      "outputs": []
    },
    {
      "cell_type": "markdown",
      "source": [
        "Predict COD"
      ],
      "metadata": {
        "id": "OYj1q1hAsHo1"
      }
    },
    {
      "cell_type": "code",
      "source": [
        "data = data.set_index(\"Date\")\n",
        "# Define your input features (X) and target variable (y)\n",
        "X = data.drop(\"Chemical Oxygen Demand\", axis=1)  # Input features (exclude COD)\n",
        "y = data[\"Chemical Oxygen Demand\"]  # Target variable (COD)"
      ],
      "metadata": {
        "execution": {
          "iopub.status.busy": "2023-10-15T10:52:50.3109Z",
          "iopub.execute_input": "2023-10-15T10:52:50.311438Z",
          "iopub.status.idle": "2023-10-15T10:52:50.320233Z",
          "shell.execute_reply.started": "2023-10-15T10:52:50.311407Z",
          "shell.execute_reply": "2023-10-15T10:52:50.319289Z"
        },
        "trusted": true,
        "id": "sPke83vngf4q"
      },
      "execution_count": null,
      "outputs": []
    },
    {
      "cell_type": "code",
      "source": [
        "sns.scatterplot(y)\n",
        "plt.show()"
      ],
      "metadata": {
        "id": "hUxflMLNN6Ll"
      },
      "execution_count": null,
      "outputs": []
    },
    {
      "cell_type": "markdown",
      "source": [
        "**Machine Learning**"
      ],
      "metadata": {
        "id": "oyachRn7KPZk"
      }
    },
    {
      "cell_type": "code",
      "execution_count": null,
      "metadata": {
        "tags": [],
        "id": "MFiN9smF3JUO"
      },
      "outputs": [],
      "source": [
        "models = {}\n",
        "models['LNR'] = LNR()\n",
        "models['RDG'] = Ridge()\n",
        "models['LSR'] = Lasso()\n",
        "models['ENR'] = ENR()\n",
        "models['DTR'] = DTR()\n",
        "models['ABR'] = ADA()\n",
        "models['BAG'] = BAG()\n",
        "models['GBR'] = GBR()\n",
        "models['RFR'] = RFR()\n",
        "\n",
        "kf = KFold(n_splits=5, shuffle=True, random_state=42)\n",
        "for m in models:\n",
        "    score = cross_val_score(models[m], X, y, scoring='r2', cv=kf, n_jobs=-1) # 'r2' is the default score for regressor\n",
        "    print(f\"{m}: R2 score is {score.mean():.3f} ± {score.std():.3f}\")"
      ]
    },
    {
      "cell_type": "markdown",
      "source": [
        "**Neural Network**"
      ],
      "metadata": {
        "id": "hrYqR9CbB5ME"
      }
    },
    {
      "cell_type": "markdown",
      "source": [
        "Split the data into training, validation, and test sets"
      ],
      "metadata": {
        "id": "Gg201IQwVzTg"
      }
    },
    {
      "cell_type": "code",
      "source": [
        "X_train, X_temp, y_train, y_temp = split(X, y, test_size=0.3, random_state=42)\n",
        "X_val, X_test, y_val, y_test = split(X_temp, y_temp, test_size=0.5, random_state=42)"
      ],
      "metadata": {
        "execution": {
          "iopub.status.busy": "2023-10-15T10:52:50.321834Z",
          "iopub.execute_input": "2023-10-15T10:52:50.322168Z",
          "iopub.status.idle": "2023-10-15T10:52:50.339456Z",
          "shell.execute_reply.started": "2023-10-15T10:52:50.322139Z",
          "shell.execute_reply": "2023-10-15T10:52:50.338683Z"
        },
        "trusted": true,
        "id": "F89ub6POgf4r"
      },
      "execution_count": null,
      "outputs": []
    },
    {
      "cell_type": "markdown",
      "source": [
        "Standardize the data range (feature scaling)"
      ],
      "metadata": {
        "id": "yQtQdQ-LVtDQ"
      }
    },
    {
      "cell_type": "code",
      "source": [
        "scaler = StandardScaler()\n",
        "X_train = scaler.fit_transform(X_train)\n",
        "X_val = scaler.transform(X_val)\n",
        "X_test = scaler.transform(X_test)"
      ],
      "metadata": {
        "id": "7-I0AzbZVp73"
      },
      "execution_count": null,
      "outputs": []
    },
    {
      "cell_type": "markdown",
      "source": [
        "Build a simple neural network model"
      ],
      "metadata": {
        "id": "s3Vw5nP7qc_T"
      }
    },
    {
      "cell_type": "code",
      "source": [
        "model_neural = Sequential()\n",
        "model_neural.add(Dense(64, input_dim=X_train.shape[1], activation='relu'))\n",
        "model_neural.add(Dense(32, activation='relu'))\n",
        "model_neural.add(Dense(1))  # Output layer (1 neuron for regression)\n",
        "\n",
        "# Compile the model\n",
        "model_neural.compile(loss='mean_squared_error', optimizer='adam')\n",
        "\n",
        "# Train the model\n",
        "neural_history = model_neural.fit(X_train, y_train, validation_data=(X_val, y_val), epochs=400, batch_size=50, verbose=1)"
      ],
      "metadata": {
        "execution": {
          "iopub.status.busy": "2023-10-15T10:55:46.950812Z",
          "iopub.execute_input": "2023-10-15T10:55:46.951131Z",
          "iopub.status.idle": "2023-10-15T10:56:29.142818Z",
          "shell.execute_reply.started": "2023-10-15T10:55:46.951101Z",
          "shell.execute_reply": "2023-10-15T10:56:29.141548Z"
        },
        "trusted": true,
        "id": "6ZzU_EM4gf4s"
      },
      "execution_count": null,
      "outputs": []
    },
    {
      "cell_type": "code",
      "source": [
        "# Make predictions on the test set\n",
        "y_pred = model_neural.predict(X_test)\n",
        "\n",
        "# Evaluate the model\n",
        "mse = mean_squared_error(y_test, y_pred)\n",
        "rmse = np.sqrt(mse)\n",
        "r2 = r2_score(y_test, y_pred)\n",
        "\n",
        "# Print evaluation metrics\n",
        "print(f\"RMSE on test set: {rmse:.2f}\")\n",
        "print(f\"R-squared (R2) Score: {r2:.2f}\")"
      ],
      "metadata": {
        "id": "si0FcOWmByQ0"
      },
      "execution_count": null,
      "outputs": []
    },
    {
      "cell_type": "markdown",
      "source": [
        "Define a Feedforward Neural Network (FNN) model"
      ],
      "metadata": {
        "id": "ayMHLv2co7Gb"
      }
    },
    {
      "cell_type": "code",
      "source": [
        "def create_ffn_model():\n",
        "    model = keras.Sequential([\n",
        "        layers.Input(shape=(X_train.shape[1],)),\n",
        "        layers.Dense(64, activation='relu'),\n",
        "        layers.Dense(32, activation='relu'),\n",
        "        layers.Dense(1)  # Output layer for regression\n",
        "    ])\n",
        "    model.compile(optimizer='adam', loss='mean_squared_error')\n",
        "    return model"
      ],
      "metadata": {
        "execution": {
          "iopub.status.busy": "2023-10-15T10:54:03.280669Z",
          "iopub.execute_input": "2023-10-15T10:54:03.281019Z",
          "iopub.status.idle": "2023-10-15T10:55:46.052731Z",
          "shell.execute_reply.started": "2023-10-15T10:54:03.280986Z",
          "shell.execute_reply": "2023-10-15T10:55:46.051576Z"
        },
        "trusted": true,
        "id": "illUTHasgf4r"
      },
      "execution_count": null,
      "outputs": []
    },
    {
      "cell_type": "markdown",
      "source": [
        "Define a Convolutional Neural Network (CNN) model"
      ],
      "metadata": {
        "id": "-omCiJliqRoN"
      }
    },
    {
      "cell_type": "code",
      "source": [
        "def create_cnn_model():\n",
        "    model = keras.Sequential([\n",
        "        layers.Input(shape=(X_train.shape[1], 1)),  # Assuming 1D data\n",
        "        layers.Conv1D(32, kernel_size=3, activation='relu'),\n",
        "        layers.MaxPooling1D(pool_size=2),\n",
        "        layers.Flatten(),\n",
        "        layers.Dense(64, activation='relu'),\n",
        "        layers.Dense(1)  # Output layer for regression\n",
        "    ])\n",
        "    model.compile(optimizer='adam', loss='mean_squared_error')\n",
        "    return model"
      ],
      "metadata": {
        "id": "VxVDZDt3qJdT"
      },
      "execution_count": null,
      "outputs": []
    },
    {
      "cell_type": "markdown",
      "source": [
        "Define a Recurrent Neural Network (RNN) model with LSTM cells"
      ],
      "metadata": {
        "id": "TeP2iIAtpvCL"
      }
    },
    {
      "cell_type": "code",
      "source": [
        "def create_rnn_model():\n",
        "    model = keras.Sequential([\n",
        "        layers.Input(shape=(X_train.shape[1], 1)),  # Assuming 1D data\n",
        "        layers.LSTM(32, activation='relu'),\n",
        "        layers.Dense(1)  # Output layer for regression\n",
        "    ])\n",
        "    model.compile(optimizer='adam', loss='mean_squared_error')\n",
        "    return model"
      ],
      "metadata": {
        "id": "OtNq4HA4prD0"
      },
      "execution_count": null,
      "outputs": []
    },
    {
      "cell_type": "markdown",
      "source": [
        "Train the models"
      ],
      "metadata": {
        "id": "PCqsYCeMpZoz"
      }
    },
    {
      "cell_type": "code",
      "source": [
        "ffn_model = create_ffn_model()\n",
        "ffn_history = ffn_model.fit(X_train, y_train, validation_data=(X_val, y_val), epochs=400, batch_size=50)\n",
        "\n",
        "cnn_model = create_cnn_model()\n",
        "cnn_history = cnn_model.fit(X_train.reshape(X_train.shape[0], X_train.shape[1], 1), y_train, validation_data=(X_val.reshape(X_val.shape[0], X_val.shape[1], 1), y_val), epochs=400, batch_size=50)\n",
        "\n",
        "rnn_model = create_rnn_model()\n",
        "rnn_history = rnn_model.fit(X_train.reshape(X_train.shape[0], X_train.shape[1], 1), y_train, validation_data=(X_val.reshape(X_val.shape[0], X_val.shape[1], 1), y_val), epochs=400, batch_size=50)"
      ],
      "metadata": {
        "id": "YvRFwC7RpV8T"
      },
      "execution_count": null,
      "outputs": []
    },
    {
      "cell_type": "markdown",
      "source": [
        "Test the models"
      ],
      "metadata": {
        "id": "N54fUh2-pPhk"
      }
    },
    {
      "cell_type": "code",
      "source": [
        "y_ffn_pred = ffn_model.predict(X_test)\n",
        "mse_ffn = mean_squared_error(y_test, y_ffn_pred)\n",
        "rmse_ffn = np.sqrt(mse_ffn)\n",
        "r2_ffn = r2_score(y_test, y_ffn_pred)\n",
        "print(f'FFN RMSE on test set: {rmse_ffn:.2f}')\n",
        "print(f\"FFN R-squared (R2) Score: {r2_ffn:.2f}\")\n",
        "\n",
        "y_cnn_pred = cnn_model.predict(X_test.reshape(X_test.shape[0], X_test.shape[1], 1))\n",
        "mse_cnn = mean_squared_error(y_test, y_cnn_pred)\n",
        "rmse_cnn = np.sqrt(mse_cnn)\n",
        "r2_cnn = r2_score(y_test, y_cnn_pred)\n",
        "print(f'CNN RMSE on test set: {rmse_cnn:.2f}')\n",
        "print(f\"CNN R-squared (R2) Score: {r2_cnn:.2f}\")\n",
        "\n",
        "y_rnn_pred = rnn_model.predict(X_test.reshape(X_test.shape[0], X_test.shape[1], 1))\n",
        "mse_rnn = mean_squared_error(y_test, y_rnn_pred)\n",
        "rmse_rnn = np.sqrt(mse_rnn)\n",
        "r2_rnn = r2_score(y_test, y_rnn_pred)\n",
        "print(f'RNN RMSE on test set: {rmse_rnn:.2f}')\n",
        "print(f\"RNN R-squared (R2) Score: {r2_rnn:.2f}\")"
      ],
      "metadata": {
        "id": "IEp2cJsjpKq8"
      },
      "execution_count": null,
      "outputs": []
    },
    {
      "cell_type": "code",
      "source": [
        "model_names = ['NN', 'FFN', 'CNN', 'RNN']\n",
        "r2_values = [r2, r2_ffn, r2_cnn, r2_rnn]\n",
        "for i, m in enumerate(model_names):\n",
        "    print(f\"{m}: R2 score is {r2_values[i]:.3}\")"
      ],
      "metadata": {
        "id": "HFIlX6A7RLeV"
      },
      "execution_count": null,
      "outputs": []
    }
  ]
}