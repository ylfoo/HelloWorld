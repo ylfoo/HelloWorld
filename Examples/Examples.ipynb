{
  "cells": [
    {
      "cell_type": "markdown",
      "metadata": {
        "id": "view-in-github",
        "colab_type": "text"
      },
      "source": [
        "<a href=\"https://colab.research.google.com/github/ylfoo/HelloWorld/blob/main/Examples/Examples.ipynb\" target=\"_parent\"><img src=\"https://colab.research.google.com/assets/colab-badge.svg\" alt=\"Open In Colab\"/></a>"
      ]
    },
    {
      "cell_type": "markdown",
      "id": "4050027f",
      "metadata": {
        "id": "4050027f"
      },
      "source": [
        "# Examples"
      ]
    },
    {
      "cell_type": "markdown",
      "id": "d8b0654c",
      "metadata": {
        "id": "d8b0654c"
      },
      "source": [
        "## Initialization"
      ]
    },
    {
      "cell_type": "code",
      "execution_count": null,
      "id": "ca45a6d2",
      "metadata": {
        "id": "ca45a6d2"
      },
      "outputs": [],
      "source": [
        "%matplotlib inline\n",
        "from warnings import filterwarnings\n",
        "filterwarnings('ignore')"
      ]
    },
    {
      "cell_type": "markdown",
      "id": "8df0a6f2",
      "metadata": {
        "id": "8df0a6f2"
      },
      "source": [
        "## Collect Data"
      ]
    },
    {
      "cell_type": "code",
      "execution_count": null,
      "id": "e5d0583a",
      "metadata": {
        "id": "e5d0583a"
      },
      "outputs": [],
      "source": [
        "# Example 1\n",
        "# Import the necessary module from scikit-learn\n",
        "from sklearn.datasets import load_iris\n",
        "# Load the Iris dataset\n",
        "iris_data = load_iris()\n",
        "# Extract features and target variables\n",
        "X = iris_data.data\n",
        "y = iris_data.target\n",
        "# Display feature names and target names\n",
        "print(\"Feature Names:\", iris_data.feature_names)\n",
        "print(\"Target Names:\", iris_data.target_names)"
      ]
    },
    {
      "cell_type": "code",
      "execution_count": null,
      "id": "d4f94e26",
      "metadata": {
        "id": "d4f94e26"
      },
      "outputs": [],
      "source": [
        "# Example 2\n",
        "# Import read_csv function from pandas\n",
        "from pandas import read_csv\n",
        "df = read_csv(\"heights_weights_genders.csv\")\n",
        "print(df.head())\n",
        "\n",
        "X = df.drop(columns=['Gender'])\n",
        "y = df['Gender']\n",
        "print(df.shape, X.shape, y.shape)"
      ]
    },
    {
      "cell_type": "code",
      "execution_count": null,
      "id": "8ef24c7b",
      "metadata": {
        "id": "8ef24c7b"
      },
      "outputs": [],
      "source": [
        "# Example 3\n",
        "# Import read_csv function from pandas\n",
        "from pandas import read_csv\n",
        "df = read_csv('heights_weights_genders.csv')\n",
        "print(df.describe())  # print the statistical summary of the data\n",
        "class_counts = df.groupby('Gender').size()\n",
        "print(class_counts)  # print the class breakdown of the data"
      ]
    },
    {
      "cell_type": "markdown",
      "id": "2c6af87c",
      "metadata": {
        "id": "2c6af87c"
      },
      "source": [
        "## Handling Missing Values"
      ]
    },
    {
      "cell_type": "code",
      "execution_count": null,
      "id": "46c85a68",
      "metadata": {
        "id": "46c85a68"
      },
      "outputs": [],
      "source": [
        "# Example 1\n",
        "# Handling missing values by dropping data samples with missing values\n",
        "import pandas as pd\n",
        "import numpy as np\n",
        "df = pd.DataFrame({'Age': [17, 23, 'x', 38, 54, 67, 32],\n",
        "                  'Height': [160, 172, 150, 165, 163, 158, 175],\n",
        "                  'Weight':[50, 68, 43, 52, 47, 49, 'x']})\n",
        "df = df.replace({'x': np.nan}) # replace missing values (x) with NaN\n",
        "print(df)\n",
        "print(df.isnull().sum())\n",
        "df = df.dropna() # drop rows with NaN\n",
        "print(df)"
      ]
    },
    {
      "cell_type": "code",
      "execution_count": null,
      "id": "12451ee4",
      "metadata": {
        "id": "12451ee4"
      },
      "outputs": [],
      "source": [
        "# Example 2\n",
        "# Handling missing values by imputing missing values with statistic\n",
        "import pandas as pd\n",
        "import numpy as np\n",
        "df = pd.DataFrame({'Age': [17, 23, 'x', 38, 54, 67, 32],\n",
        "                  'Height': [160, 172, 150, 165, 163, 158, 175],\n",
        "                  'Weight':[50, 68, 43, 52, 47, 49, 'x']})\n",
        "df = df.replace({'x': np.nan})\n",
        "df['Age'] = df['Age'].fillna(df['Age'].median()) # replace NaN with median\n",
        "df['Weight'] = df['Weight'].fillna(df['Weight'].mean()) # replace NaN with mean\n",
        "print(df)"
      ]
    },
    {
      "cell_type": "markdown",
      "id": "61e8904b",
      "metadata": {
        "id": "61e8904b"
      },
      "source": [
        "## Handling categorical data"
      ]
    },
    {
      "cell_type": "code",
      "execution_count": null,
      "id": "71ec7ed9",
      "metadata": {
        "id": "71ec7ed9"
      },
      "outputs": [],
      "source": [
        "import pandas as pd\n",
        "df0 = pd.DataFrame({'year':[2015, 2017, 2013, 2018, 2020],\n",
        "                  'make':['Toyota', 'Honda', 'Perodua', 'Hyundai', 'Toyota'],\n",
        "                  'engine':[1.5, 1.8, 1.3, 1.6, 1.8],\n",
        "                  'review':['moderate', 'good', 'poor', 'moderate', 'good']})\n",
        "mapping = {'poor':1, 'moderate':2, 'good':3}\n",
        "df0['review'] = df0['review'].map(mapping) # encode ordinal data\n",
        "df0 = pd.get_dummies(df0) # encode nominal data\n",
        "print(df0)"
      ]
    },
    {
      "cell_type": "markdown",
      "id": "6be71d85",
      "metadata": {
        "id": "6be71d85"
      },
      "source": [
        "## Hold-out Validation"
      ]
    },
    {
      "cell_type": "code",
      "execution_count": null,
      "id": "39594168",
      "metadata": {
        "id": "39594168"
      },
      "outputs": [],
      "source": [
        "# Hold-out validation\n",
        "from pandas import read_csv\n",
        "from sklearn.model_selection import train_test_split as split\n",
        "from sklearn.neighbors import KNeighborsClassifier\n",
        "df = read_csv(\"heights_weights_genders.csv\")\n",
        "X = df.drop(columns=['Gender'])\n",
        "y = df['Gender']\n",
        "X_train, X_test, y_train, y_test = split(X, y, test_size=0.25, random_state=42)\n",
        "model = KNeighborsClassifier()\n",
        "model.fit(X_train, y_train)\n",
        "result = model.score(X_test, y_test)\n",
        "print(f\"Accuracy: {result:.2%}\")"
      ]
    },
    {
      "cell_type": "markdown",
      "id": "a38e453a",
      "metadata": {
        "id": "a38e453a"
      },
      "source": [
        "## k-fold Cross Validation"
      ]
    },
    {
      "cell_type": "code",
      "execution_count": null,
      "id": "08acb47b",
      "metadata": {
        "id": "08acb47b"
      },
      "outputs": [],
      "source": [
        "# k-fold Cross-validation\n",
        "from pandas import read_csv\n",
        "from sklearn.model_selection import KFold, cross_val_score\n",
        "from sklearn.neighbors import KNeighborsClassifier\n",
        "df = read_csv(\"heights_weights_genders.csv\")\n",
        "X = df.drop(columns=['Gender'])\n",
        "y = df['Gender']\n",
        "model = KNeighborsClassifier()\n",
        "kfold = KFold(n_splits=5, shuffle=True, random_state=42)\n",
        "results = cross_val_score(model, X, y, cv=kfold)\n",
        "print(f\"Accuracy: {results.mean():.2%} ({results.std():.2%})\")"
      ]
    },
    {
      "cell_type": "markdown",
      "id": "5a5f5396",
      "metadata": {
        "id": "5a5f5396"
      },
      "source": [
        "## Linear Regression"
      ]
    },
    {
      "cell_type": "code",
      "execution_count": null,
      "id": "c4ce3493",
      "metadata": {
        "id": "c4ce3493"
      },
      "outputs": [],
      "source": [
        "# Linear Regression\n",
        "from sklearn.model_selection import train_test_split as split\n",
        "from sklearn.linear_model import LinearRegression\n",
        "from pandas import read_csv\n",
        "df = read_csv(\"heights_weights_genders.csv\")\n",
        "X = df.drop(columns=['Weight(kg)', 'Gender'])\n",
        "y = df['Weight(kg)']\n",
        "X_train, X_test, y_train, y_test = split(X, y, test_size=0.25, random_state=42)\n",
        "lr = LinearRegression().fit(X_train, y_train)\n",
        "print(f'R2 score: {lr.score(X_test, y_test):.2f}')"
      ]
    },
    {
      "cell_type": "markdown",
      "id": "2c8d9c9d",
      "metadata": {
        "id": "2c8d9c9d"
      },
      "source": [
        "## k-NN Regression"
      ]
    },
    {
      "cell_type": "code",
      "execution_count": null,
      "id": "ad4ea898",
      "metadata": {
        "id": "ad4ea898"
      },
      "outputs": [],
      "source": [
        "# k-NN Regressor\n",
        "from sklearn.model_selection import train_test_split as split\n",
        "from sklearn.neighbors import KNeighborsRegressor\n",
        "from pandas import read_csv\n",
        "df = read_csv(\"heights_weights_genders.csv\")\n",
        "X = df.drop(columns=['Weight(kg)', 'Gender'])\n",
        "y = df['Weight(kg)']\n",
        "X_train, X_test, y_train, y_test = split(X, y, test_size=0.25, random_state=42)\n",
        "knn = KNeighborsRegressor().fit(X_train, y_train)\n",
        "print(f'R2 score: {knn.score(X_test, y_test):.2f}')"
      ]
    },
    {
      "cell_type": "markdown",
      "id": "dd78ec8a",
      "metadata": {
        "id": "dd78ec8a"
      },
      "source": [
        "## Logistic Regression"
      ]
    },
    {
      "cell_type": "code",
      "execution_count": null,
      "id": "1fea1869",
      "metadata": {
        "id": "1fea1869"
      },
      "outputs": [],
      "source": [
        "# Logistic Regression\n",
        "from pandas import read_csv\n",
        "from sklearn.model_selection import train_test_split as split\n",
        "from sklearn.linear_model import LogisticRegression\n",
        "df = read_csv(\"heights_weights_genders.csv\")\n",
        "X = df.drop(columns=['Gender'])\n",
        "y = df['Gender']\n",
        "X_train, X_test, y_train, y_test = split(X, y, test_size=0.25, random_state=42)\n",
        "lgr = LogisticRegression().fit(X_train, y_train)\n",
        "print(f'Accuracy: {lgr.score(X_test, y_test):.2%}')"
      ]
    },
    {
      "cell_type": "markdown",
      "id": "327005a4",
      "metadata": {
        "id": "327005a4"
      },
      "source": [
        "## k-NN Classification"
      ]
    },
    {
      "cell_type": "code",
      "execution_count": null,
      "id": "dda0af92",
      "metadata": {
        "id": "dda0af92"
      },
      "outputs": [],
      "source": [
        "# k-NN Classification\n",
        "from pandas import read_csv\n",
        "from sklearn.model_selection import train_test_split as split\n",
        "from sklearn.neighbors import KNeighborsClassifier\n",
        "df = read_csv(\"heights_weights_genders.csv\")\n",
        "X = df.drop(columns=['Gender'])\n",
        "y = df['Gender']\n",
        "X_train, X_test, y_train, y_test = split(X, y, test_size=0.25, random_state=42)\n",
        "knn = KNeighborsClassifier().fit(X_train, y_train)\n",
        "print(f'Accuracy: {knn.score(X_test, y_test):.2%}')"
      ]
    },
    {
      "cell_type": "code",
      "execution_count": null,
      "id": "40e1a18c",
      "metadata": {
        "id": "40e1a18c"
      },
      "outputs": [],
      "source": [
        "# Decision Tree Classification\n",
        "from pandas import read_csv\n",
        "from sklearn.model_selection import train_test_split as split\n",
        "from sklearn.tree import DecisionTreeClassifier, plot_tree\n",
        "import matplotlib.pyplot as plt\n",
        "\n",
        "df = read_csv(\"heights_weights_genders.csv\")\n",
        "X = df.drop(columns=['Gender'])\n",
        "y = df['Gender']\n",
        "X_train, X_test, y_train, y_test = split(X, y, test_size=0.25, random_state=42)\n",
        "dtc = DecisionTreeClassifier(random_state=42).fit(X_train, y_train)\n",
        "print(f'Train accuracy: {dtc.score(X_train, y_train):.2%}')\n",
        "print(f'Test accuracy: {dtc.score(X_test, y_test):.2%}')\n",
        "\n",
        "# Plot tree\n",
        "plt.figure(figsize=(10, 10))\n",
        "plot_tree(dtc, feature_names=df.columns[:-1], class_names=['Female', 'Male'], rounded=True, filled=True)\n",
        "plt.show()"
      ]
    },
    {
      "cell_type": "code",
      "execution_count": null,
      "id": "d1d7c8bc",
      "metadata": {
        "id": "d1d7c8bc"
      },
      "outputs": [],
      "source": [
        "# Decision Tree Classification with maximum depth of 2\n",
        "from pandas import read_csv\n",
        "from sklearn.model_selection import train_test_split as split\n",
        "from sklearn.tree import DecisionTreeClassifier, plot_tree\n",
        "import matplotlib.pyplot as plt\n",
        "\n",
        "df = read_csv(\"heights_weights_genders.csv\")\n",
        "X = df.drop(columns=['Gender'])\n",
        "y = df['Gender']\n",
        "X_train, X_test, y_train, y_test = split(X, y, test_size=0.25, random_state=42)\n",
        "dtc = DecisionTreeClassifier(random_state=42, max_depth=2).fit(X_train, y_train)\n",
        "print(f'Train accuracy: {dtc.score(X_train, y_train):.2%}')\n",
        "print(f'Test accuracy: {dtc.score(X_test, y_test):.2%}')\n",
        "\n",
        "# Plot tree\n",
        "plt.figure(figsize=(10, 10))\n",
        "plot_tree(dtc, feature_names=df.columns[:-1], class_names=['Female', 'Male'], rounded=True, filled=True)\n",
        "plt.show()"
      ]
    },
    {
      "cell_type": "code",
      "execution_count": null,
      "id": "cf28ec3f",
      "metadata": {
        "id": "cf28ec3f"
      },
      "outputs": [],
      "source": [
        "# Decision Tree Classification with maximum leaf nodes of 6\n",
        "from pandas import read_csv\n",
        "from sklearn.model_selection import train_test_split as split\n",
        "from sklearn.tree import DecisionTreeClassifier, plot_tree\n",
        "import matplotlib.pyplot as plt\n",
        "\n",
        "df = read_csv(\"heights_weights_genders.csv\")\n",
        "X = df.drop(columns=['Gender'])\n",
        "y = df['Gender']\n",
        "X_train, X_test, y_train, y_test = split(X, y, test_size=0.25, random_state=42)\n",
        "dtc = DecisionTreeClassifier(random_state=42, max_leaf_nodes=6).fit(X_train, y_train)\n",
        "print(f'Train accuracy: {dtc.score(X_train, y_train):.2%}')\n",
        "print(f'Test accuracy: {dtc.score(X_test, y_test):.2%}')\n",
        "\n",
        "# Plot tree\n",
        "plt.figure(figsize=(10, 10))\n",
        "plot_tree(dtc, feature_names=df.columns[:-1], class_names=['Female', 'Male'], rounded=True, filled=True)\n",
        "plt.show()"
      ]
    },
    {
      "cell_type": "markdown",
      "id": "8549b2b2",
      "metadata": {
        "id": "8549b2b2"
      },
      "source": [
        "## k-means Clustering"
      ]
    },
    {
      "cell_type": "code",
      "execution_count": null,
      "id": "427347ce",
      "metadata": {
        "id": "427347ce"
      },
      "outputs": [],
      "source": [
        "from pandas import read_csv\n",
        "from sklearn.cluster import KMeans\n",
        "import matplotlib.pyplot as plt\n",
        "df = read_csv(\"heights_weights_genders.csv\")\n",
        "X = df.drop(columns=['Gender'])\n",
        "km = KMeans(n_clusters=2).fit(X)\n",
        "fig, (ax1, ax2) = plt.subplots(1, 2, figsize=(8, 4))\n",
        "fig.suptitle('k-means Clustering')\n",
        "ax1.scatter(X.values[:, 0], X.values[:, 1])\n",
        "ax1.set_title('Before clustering')\n",
        "ax2.scatter(X.values[:, 0], X.values[:, 1], c=km.labels_)\n",
        "ax2.set_title('After clustering')"
      ]
    }
  ],
  "metadata": {
    "kernelspec": {
      "display_name": "Python 3 (ipykernel)",
      "language": "python",
      "name": "python3"
    },
    "language_info": {
      "codemirror_mode": {
        "name": "ipython",
        "version": 3
      },
      "file_extension": ".py",
      "mimetype": "text/x-python",
      "name": "python",
      "nbconvert_exporter": "python",
      "pygments_lexer": "ipython3",
      "version": "3.11.3"
    },
    "colab": {
      "provenance": [],
      "include_colab_link": true
    }
  },
  "nbformat": 4,
  "nbformat_minor": 5
}